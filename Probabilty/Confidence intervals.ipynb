{
 "cells": [
  {
   "cell_type": "code",
   "execution_count": 1,
   "metadata": {},
   "outputs": [],
   "source": [
    "import scipy.stats as sp\n",
    "import numpy as np\n",
    "import matplotlib.pyplot as plt\n"
   ]
  },
  {
   "attachments": {},
   "cell_type": "markdown",
   "metadata": {},
   "source": [
    "![img](https://i.imgur.com/PsjVt3b.png)"
   ]
  },
  {
   "cell_type": "code",
   "execution_count": 2,
   "metadata": {},
   "outputs": [
    {
     "name": "stdout",
     "output_type": "stream",
     "text": [
      "The 95% confidence interval is: [1.7802825681661016, 2.4197174318338988]\n"
     ]
    }
   ],
   "source": [
    "import scipy.stats as stats\n",
    "import math\n",
    "n = 16\n",
    "xbar = 2.1\n",
    "s = 0.6\n",
    "df = n - 1\n",
    "cl = 0.95\n",
    "se = s / math.sqrt(n)\n",
    "\n",
    "t_crit = stats.t.ppf((1 + cl) / 2, df)\n",
    "\n",
    "me = t_crit * se\n",
    "\n",
    "lower = xbar - me\n",
    "upper = xbar + me\n",
    "\n",
    "print(f\"The 95% confidence interval is: {[lower, upper]}\")\n"
   ]
  },
  {
   "cell_type": "code",
   "execution_count": 6,
   "metadata": {},
   "outputs": [
    {
     "name": "stdout",
     "output_type": "stream",
     "text": [
      "95% Confidence Interval: [0.19644655207112893, 0.8623253235140129]\n"
     ]
    }
   ],
   "source": [
    "import scipy.stats as st\n",
    "alpha = 0.05\n",
    "df = 15\n",
    "chi_low = st.chi2.ppf(alpha/2, df)\n",
    "chi_high = st.chi2.ppf(1-alpha/2, df)\n",
    "lower_bound = ((n-1) * s**2) / chi_high\n",
    "upper_bound = ((n-1) * s**2) / chi_low\n",
    "\n",
    "print(f\"95% Confidence Interval: {[lower_bound, upper_bound]}\")\n"
   ]
  },
  {
   "attachments": {},
   "cell_type": "markdown",
   "metadata": {},
   "source": [
    "You can assume that the population has approximately normal distribution."
   ]
  },
  {
   "cell_type": "code",
   "execution_count": null,
   "metadata": {},
   "outputs": [],
   "source": []
  },
  {
   "attachments": {},
   "cell_type": "markdown",
   "metadata": {},
   "source": [
    "![img](https://i.imgur.com/C9zhs93.png)"
   ]
  },
  {
   "cell_type": "code",
   "execution_count": 7,
   "metadata": {},
   "outputs": [
    {
     "name": "stdout",
     "output_type": "stream",
     "text": [
      "99% Confidence Interval: [2.083829684628405, 6.68073291588986]\n"
     ]
    }
   ],
   "source": [
    "import scipy.stats as stats\n",
    "n=12\n",
    "alpha = 0.01\n",
    "df = n-1  \n",
    "std= 3.25\n",
    "chi_low = stats.chi2.ppf(alpha/2, df)\n",
    "chi_high = stats.chi2.ppf(1-alpha/2, df)\n",
    "lower_bound = math.sqrt(df*std**2 / chi_high)\n",
    "upper_bound = math.sqrt(df*std**2 / chi_low)\n",
    "print(f\"99% Confidence Interval: {[lower_bound, upper_bound]}\")\n",
    "\n"
   ]
  },
  {
   "cell_type": "markdown",
   "metadata": {},
   "source": []
  },
  {
   "cell_type": "code",
   "execution_count": null,
   "metadata": {},
   "outputs": [],
   "source": []
  }
 ],
 "metadata": {
  "kernelspec": {
   "display_name": "Python 3",
   "language": "python",
   "name": "python3"
  },
  "language_info": {
   "codemirror_mode": {
    "name": "ipython",
    "version": 3
   },
   "file_extension": ".py",
   "mimetype": "text/x-python",
   "name": "python",
   "nbconvert_exporter": "python",
   "pygments_lexer": "ipython3",
   "version": "3.11.0"
  },
  "orig_nbformat": 4
 },
 "nbformat": 4,
 "nbformat_minor": 2
}
