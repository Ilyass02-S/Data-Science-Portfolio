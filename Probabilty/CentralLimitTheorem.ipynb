{
 "cells": [
  {
   "cell_type": "code",
   "execution_count": 1,
   "metadata": {},
   "outputs": [],
   "source": [
    "import numpy as np\n",
    "import matplotlib.pyplot as plt\n",
    "import scipy.stats as sp"
   ]
  },
  {
   "attachments": {},
   "cell_type": "markdown",
   "metadata": {},
   "source": [
    "### Task 1\n",
    "Solve the following problem and verify the results using simulations.\n",
    "![img](https://i.imgur.com/bexR7pT.png) "
   ]
  },
  {
   "cell_type": "code",
   "execution_count": 4,
   "metadata": {},
   "outputs": [
    {
     "name": "stdout",
     "output_type": "stream",
     "text": [
      "P(sample mean > 70) = 0.419\n",
      "P(random man > 70) = 0.419\n"
     ]
    }
   ],
   "source": [
    "mu = 63.5\n",
    "n = 1\n",
    "sigmaPopulation = 12.2\n",
    "height = 66\n",
    "sigmaSample = sigmaPopulation/np.sqrt(n)\n",
    "P_sampleMeanGreaterThan66 = 1 - sp.norm(loc=mu, scale = sigmaSample).cdf(height)\n",
    "print(f\"P(sample mean > 70) = {P_sampleMeanGreaterThan66:0.3f}\")\n",
    "\n",
    "P_randomGreaterThan66 = 1 - sp.norm(loc=mu, scale = sigmaPopulation).cdf(height)\n",
    "print(f\"P(random man > 70) = {P_randomGreaterThan66:0.3f}\")"
   ]
  },
  {
   "cell_type": "code",
   "execution_count": 5,
   "metadata": {},
   "outputs": [
    {
     "name": "stdout",
     "output_type": "stream",
     "text": [
      "P(sample mean > 70) = 0.206\n",
      "P(random man > 70) = 0.419\n"
     ]
    }
   ],
   "source": [
    "mu = 63.5\n",
    "n = 16\n",
    "sigmaPopulation = 12.2\n",
    "height = 66\n",
    "sigmaSample = sigmaPopulation/np.sqrt(n)\n",
    "P_sampleMeanGreaterThan66 = 1 - sp.norm(loc=mu, scale = sigmaSample).cdf(height)\n",
    "print(f\"P(sample mean > 70) = {P_sampleMeanGreaterThan66:0.3f}\")\n",
    "\n",
    "P_randomGreaterThan66 = 1 - sp.norm(loc=mu, scale = sigmaPopulation).cdf(height)\n",
    "print(f\"P(random man > 70) = {P_randomGreaterThan66:0.3f}\")"
   ]
  },
  {
   "attachments": {},
   "cell_type": "markdown",
   "metadata": {},
   "source": [
    "the first predection is more accurate than b"
   ]
  },
  {
   "cell_type": "code",
   "execution_count": 7,
   "metadata": {},
   "outputs": [
    {
     "name": "stdout",
     "output_type": "stream",
     "text": [
      "P(sample mean > 70) = 0.076\n",
      "P(random man > 70) = 0.419\n"
     ]
    }
   ],
   "source": [
    "mu = 63.5\n",
    "n = 49\n",
    "sigmaPopulation = 12.2\n",
    "height = 66\n",
    "sigmaSample = sigmaPopulation/np.sqrt(n)\n",
    "P_sampleMeanGreaterThan66 = 1 - sp.norm(loc=mu, scale = sigmaSample).cdf(height)\n",
    "print(f\"P(sample mean > 70) = {P_sampleMeanGreaterThan66:0.3f}\")\n",
    "\n",
    "P_randomGreaterThan66 = 1 - sp.norm(loc=mu, scale = sigmaPopulation).cdf(height)\n",
    "print(f\"P(random man > 70) = {P_randomGreaterThan66:0.3f}\")"
   ]
  },
  {
   "cell_type": "code",
   "execution_count": null,
   "metadata": {},
   "outputs": [],
   "source": []
  },
  {
   "cell_type": "code",
   "execution_count": null,
   "metadata": {},
   "outputs": [],
   "source": []
  },
  {
   "attachments": {},
   "cell_type": "markdown",
   "metadata": {},
   "source": [
    "### Task 2\n",
    "Solve the following and verify the results by simulations."
   ]
  },
  {
   "cell_type": "markdown",
   "metadata": {},
   "source": [
    "![img](https://i.imgur.com/4hQERcw.png)"
   ]
  },
  {
   "cell_type": "code",
   "execution_count": 2,
   "metadata": {},
   "outputs": [
    {
     "name": "stdout",
     "output_type": "stream",
     "text": [
      "the mean of the random variable X is 8.0\n",
      "the standard deviation of the random variable X is 8.0\n"
     ]
    }
   ],
   "source": [
    "import random\n",
    "import math\n",
    "lmbda=1/8\n",
    "mu=1/lmbda\n",
    "print(f\"the mean of the random variable X is {mu}\")\n",
    "Sigma = mu\n",
    "print(f\"the standard deviation of the random variable X is {Sigma}\")\n",
    "\n"
   ]
  },
  {
   "cell_type": "code",
   "execution_count": 4,
   "metadata": {},
   "outputs": [
    {
     "name": "stdout",
     "output_type": "stream",
     "text": [
      "Probability of waiting 6.1 years or less for a single accident: 0.5335\n"
     ]
    }
   ],
   "source": [
    "import math\n",
    "prob_single = 1 - math.exp(-lmbda * 6.1)\n",
    "print(f\"Probability of waiting 6.1 years or less for a single accident: {prob_single:.4f}\")\n"
   ]
  },
  {
   "cell_type": "code",
   "execution_count": 6,
   "metadata": {},
   "outputs": [
    {
     "name": "stdout",
     "output_type": "stream",
     "text": [
      "Probability of observing a mean waiting time of 6.1 years or less for a sample of 35 accidents: 0.08\n"
     ]
    }
   ],
   "source": [
    "import math\n",
    "from scipy.stats import norm\n",
    "n = 35\n",
    "u = 8\n",
    "sigma = u\n",
    "std_error = sigma / math.sqrt(n)\n",
    "z_score = (6.1 - u) / std_error\n",
    "prob_sample = norm.cdf(z_score)\n",
    "print(f\"Probability of observing a mean waiting time of 6.1 years or less for a sample of 35 accidents: {prob_sample:.2f}\")\n"
   ]
  },
  {
   "cell_type": "code",
   "execution_count": 8,
   "metadata": {},
   "outputs": [
    {
     "name": "stdout",
     "output_type": "stream",
     "text": [
      "Sample mean: 8\n",
      "Sample standard deviation: 8\n"
     ]
    }
   ],
   "source": [
    "import numpy as np\n",
    "rvs = np.random.exponential(scale=8, size=100000)\n",
    "mean = np.mean(rvs)\n",
    "std= np.std(rvs)\n",
    "print(f\"Sample mean: {mean:.0f}\")\n",
    "print(f\"Sample standard deviation: {std:.0f}\")\n"
   ]
  }
 ],
 "metadata": {
  "kernelspec": {
   "display_name": "base",
   "language": "python",
   "name": "python3"
  },
  "language_info": {
   "codemirror_mode": {
    "name": "ipython",
    "version": 3
   },
   "file_extension": ".py",
   "mimetype": "text/x-python",
   "name": "python",
   "nbconvert_exporter": "python",
   "pygments_lexer": "ipython3",
   "version": "3.11.0"
  },
  "orig_nbformat": 4
 },
 "nbformat": 4,
 "nbformat_minor": 2
}
