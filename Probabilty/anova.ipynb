{
 "cells": [
  {
   "cell_type": "code",
   "execution_count": 34,
   "metadata": {},
   "outputs": [],
   "source": [
    "import pandas as pd\n",
    "import scipy.stats as st\n",
    "import numpy as np"
   ]
  },
  {
   "attachments": {},
   "cell_type": "markdown",
   "metadata": {},
   "source": [
    "## Chapter 12 Exercise 1 p.276  (From Geraghty pdf)"
   ]
  },
  {
   "cell_type": "code",
   "execution_count": 35,
   "metadata": {},
   "outputs": [
    {
     "name": "stdout",
     "output_type": "stream",
     "text": [
      "SS error= 2000\n",
      "df factoriel = 2   df total = 14   df error = 12\n",
      "mean square factoriel =3500.0   mean square error = 166.6667\n",
      "F statistic = 21.0\n",
      "Critical value of F = 3.8853\n",
      "Reject H0\n"
     ]
    }
   ],
   "source": [
    "SSt=9000\n",
    "SSf=7000\n",
    "SSe=SSt-SSf\n",
    "n=5*3\n",
    "k=3\n",
    "df_f= k-1\n",
    "df_t= n-1\n",
    "df_e= n-k\n",
    "MS_f=SSf/df_f\n",
    "MS_e=SSe/df_e\n",
    "F=MS_f/MS_e\n",
    "alpha = 0.05\n",
    "Fcrit = st.f.ppf(1-alpha,df_f,df_e)\n",
    "print(f\"SS error= {SSe}\")\n",
    "print(f\"df factoriel = {df_f}   df total = {df_t}   df error = {df_e}\")\n",
    "print(f\"mean square factoriel ={MS_f}   mean square error = {MS_e:.4f}\")\n",
    "print(f\"F statistic = {F}\")\n",
    "print(f\"Critical value of F = {Fcrit:.4f}\")\n",
    "if F < Fcrit:\n",
    "    print(\"Do not reject H0\")\n",
    "else:\n",
    "    print(\"Reject H0\")"
   ]
  },
  {
   "attachments": {},
   "cell_type": "markdown",
   "metadata": {},
   "source": [
    "## Chapter 12 Exercise 2 p.276"
   ]
  },
  {
   "cell_type": "code",
   "execution_count": 36,
   "metadata": {},
   "outputs": [
    {
     "data": {
      "text/html": [
       "<div>\n",
       "<style scoped>\n",
       "    .dataframe tbody tr th:only-of-type {\n",
       "        vertical-align: middle;\n",
       "    }\n",
       "\n",
       "    .dataframe tbody tr th {\n",
       "        vertical-align: top;\n",
       "    }\n",
       "\n",
       "    .dataframe thead th {\n",
       "        text-align: right;\n",
       "    }\n",
       "</style>\n",
       "<table border=\"1\" class=\"dataframe\">\n",
       "  <thead>\n",
       "    <tr style=\"text-align: right;\">\n",
       "      <th></th>\n",
       "      <th>North</th>\n",
       "      <th>South</th>\n",
       "      <th>East</th>\n",
       "      <th>Pen</th>\n",
       "    </tr>\n",
       "  </thead>\n",
       "  <tbody>\n",
       "    <tr>\n",
       "      <th>0</th>\n",
       "      <td>13</td>\n",
       "      <td>91</td>\n",
       "      <td>41</td>\n",
       "      <td>17</td>\n",
       "    </tr>\n",
       "    <tr>\n",
       "      <th>1</th>\n",
       "      <td>9</td>\n",
       "      <td>45</td>\n",
       "      <td>30</td>\n",
       "      <td>16</td>\n",
       "    </tr>\n",
       "    <tr>\n",
       "      <th>2</th>\n",
       "      <td>10</td>\n",
       "      <td>28</td>\n",
       "      <td>60</td>\n",
       "      <td>13</td>\n",
       "    </tr>\n",
       "    <tr>\n",
       "      <th>3</th>\n",
       "      <td>13</td>\n",
       "      <td>17</td>\n",
       "      <td>34</td>\n",
       "      <td>26</td>\n",
       "    </tr>\n",
       "    <tr>\n",
       "      <th>4</th>\n",
       "      <td>27</td>\n",
       "      <td>89</td>\n",
       "      <td>47</td>\n",
       "      <td>7</td>\n",
       "    </tr>\n",
       "    <tr>\n",
       "      <th>5</th>\n",
       "      <td>13</td>\n",
       "      <td>36</td>\n",
       "      <td>13</td>\n",
       "      <td>9</td>\n",
       "    </tr>\n",
       "    <tr>\n",
       "      <th>6</th>\n",
       "      <td>9</td>\n",
       "      <td>23</td>\n",
       "      <td>19</td>\n",
       "      <td>21</td>\n",
       "    </tr>\n",
       "    <tr>\n",
       "      <th>7</th>\n",
       "      <td>32</td>\n",
       "      <td>66</td>\n",
       "      <td>36</td>\n",
       "      <td>18</td>\n",
       "    </tr>\n",
       "  </tbody>\n",
       "</table>\n",
       "</div>"
      ],
      "text/plain": [
       "   North  South  East  Pen\n",
       "0     13     91    41   17\n",
       "1      9     45    30   16\n",
       "2     10     28    60   13\n",
       "3     13     17    34   26\n",
       "4     27     89    47    7\n",
       "5     13     36    13    9\n",
       "6      9     23    19   21\n",
       "7     32     66    36   18"
      ]
     },
     "execution_count": 36,
     "metadata": {},
     "output_type": "execute_result"
    }
   ],
   "source": [
    "df = pd.DataFrame({\"North\":[13,9,10,13,27,13,9,32],\"South\":[91,45,28,17,89,36,23,66],\"East\":[41,30,60,34,47,13,19,36],\"Pen\":[17,16,13,26,7,9,21,18]})\n",
    "\n",
    "df"
   ]
  },
  {
   "cell_type": "code",
   "execution_count": 37,
   "metadata": {},
   "outputs": [
    {
     "data": {
      "text/html": [
       "<div>\n",
       "<style scoped>\n",
       "    .dataframe tbody tr th:only-of-type {\n",
       "        vertical-align: middle;\n",
       "    }\n",
       "\n",
       "    .dataframe tbody tr th {\n",
       "        vertical-align: top;\n",
       "    }\n",
       "\n",
       "    .dataframe thead th {\n",
       "        text-align: right;\n",
       "    }\n",
       "</style>\n",
       "<table border=\"1\" class=\"dataframe\">\n",
       "  <thead>\n",
       "    <tr style=\"text-align: right;\">\n",
       "      <th></th>\n",
       "      <th>North</th>\n",
       "      <th>South</th>\n",
       "      <th>East</th>\n",
       "      <th>Pen</th>\n",
       "      <th>North**2</th>\n",
       "      <th>South**2</th>\n",
       "      <th>East**2</th>\n",
       "      <th>Pen**2</th>\n",
       "    </tr>\n",
       "  </thead>\n",
       "  <tbody>\n",
       "    <tr>\n",
       "      <th>0</th>\n",
       "      <td>13</td>\n",
       "      <td>91</td>\n",
       "      <td>41</td>\n",
       "      <td>17</td>\n",
       "      <td>169</td>\n",
       "      <td>8281</td>\n",
       "      <td>1681</td>\n",
       "      <td>289</td>\n",
       "    </tr>\n",
       "    <tr>\n",
       "      <th>1</th>\n",
       "      <td>9</td>\n",
       "      <td>45</td>\n",
       "      <td>30</td>\n",
       "      <td>16</td>\n",
       "      <td>81</td>\n",
       "      <td>2025</td>\n",
       "      <td>900</td>\n",
       "      <td>256</td>\n",
       "    </tr>\n",
       "    <tr>\n",
       "      <th>2</th>\n",
       "      <td>10</td>\n",
       "      <td>28</td>\n",
       "      <td>60</td>\n",
       "      <td>13</td>\n",
       "      <td>100</td>\n",
       "      <td>784</td>\n",
       "      <td>3600</td>\n",
       "      <td>169</td>\n",
       "    </tr>\n",
       "    <tr>\n",
       "      <th>3</th>\n",
       "      <td>13</td>\n",
       "      <td>17</td>\n",
       "      <td>34</td>\n",
       "      <td>26</td>\n",
       "      <td>169</td>\n",
       "      <td>289</td>\n",
       "      <td>1156</td>\n",
       "      <td>676</td>\n",
       "    </tr>\n",
       "    <tr>\n",
       "      <th>4</th>\n",
       "      <td>27</td>\n",
       "      <td>89</td>\n",
       "      <td>47</td>\n",
       "      <td>7</td>\n",
       "      <td>729</td>\n",
       "      <td>7921</td>\n",
       "      <td>2209</td>\n",
       "      <td>49</td>\n",
       "    </tr>\n",
       "    <tr>\n",
       "      <th>5</th>\n",
       "      <td>13</td>\n",
       "      <td>36</td>\n",
       "      <td>13</td>\n",
       "      <td>9</td>\n",
       "      <td>169</td>\n",
       "      <td>1296</td>\n",
       "      <td>169</td>\n",
       "      <td>81</td>\n",
       "    </tr>\n",
       "    <tr>\n",
       "      <th>6</th>\n",
       "      <td>9</td>\n",
       "      <td>23</td>\n",
       "      <td>19</td>\n",
       "      <td>21</td>\n",
       "      <td>81</td>\n",
       "      <td>529</td>\n",
       "      <td>361</td>\n",
       "      <td>441</td>\n",
       "    </tr>\n",
       "    <tr>\n",
       "      <th>7</th>\n",
       "      <td>32</td>\n",
       "      <td>66</td>\n",
       "      <td>36</td>\n",
       "      <td>18</td>\n",
       "      <td>1024</td>\n",
       "      <td>4356</td>\n",
       "      <td>1296</td>\n",
       "      <td>324</td>\n",
       "    </tr>\n",
       "  </tbody>\n",
       "</table>\n",
       "</div>"
      ],
      "text/plain": [
       "   North  South  East  Pen  North**2  South**2  East**2  Pen**2\n",
       "0     13     91    41   17       169      8281     1681     289\n",
       "1      9     45    30   16        81      2025      900     256\n",
       "2     10     28    60   13       100       784     3600     169\n",
       "3     13     17    34   26       169       289     1156     676\n",
       "4     27     89    47    7       729      7921     2209      49\n",
       "5     13     36    13    9       169      1296      169      81\n",
       "6      9     23    19   21        81       529      361     441\n",
       "7     32     66    36   18      1024      4356     1296     324"
      ]
     },
     "execution_count": 37,
     "metadata": {},
     "output_type": "execute_result"
    }
   ],
   "source": [
    "#Levels\n",
    "k = 4\n",
    "#valid data count (not-nans)\n",
    "n = df.count()\n",
    "#averages\n",
    "xm = df.mean()\n",
    "#variances\n",
    "xvar = df.var()\n",
    "#Square of values\n",
    "sumOfSquares=np.zeros(3,)\n",
    "for (index,col) in enumerate(df):\n",
    "    df[col+'**2'] = df[col]**2\n",
    "\n",
    "df"
   ]
  },
  {
   "cell_type": "code",
   "execution_count": 38,
   "metadata": {},
   "outputs": [],
   "source": [
    "n = df.count()\n",
    "\n",
    "sumSquaredMean=(df[\"North\"].sum() + df[\"South\"].sum() + df[\"East\"].sum()+df[\"Pen\"].sum() )**2/(n[0]+n[1]+n[2]+n[3])\n",
    "sumOfSquares = (df[\"North**2\"].sum() + df[\"South**2\"].sum() + df[\"East**2\"].sum()+df[\"Pen**2\"].sum())\n",
    "\n",
    "SSTotal = sumOfSquares - sumSquaredMean"
   ]
  },
  {
   "cell_type": "code",
   "execution_count": 39,
   "metadata": {},
   "outputs": [],
   "source": [
    "n = df.count()\n",
    "s1=(df[\"North\"].sum())**2/n[0]\n",
    "s2=(df[\"South\"].sum())**2/n[1]\n",
    "s3=(df[\"East\"].sum())**2/n[2]\n",
    "s4=(df[\"Pen\"].sum())**2/n[3]\n",
    "SSFactor = s1+s2+s3+s4 - sumSquaredMean\n",
    "\n"
   ]
  },
  {
   "cell_type": "code",
   "execution_count": 40,
   "metadata": {},
   "outputs": [],
   "source": [
    "df_e=n[0] + n[1] + n[2] +n[3] - k\n",
    "df_t=n[0] + n[1] + n[2] +n[3] -1\n",
    "df_f= k-1\n",
    "SSError = SSTotal - SSFactor\n",
    "MSFactor = SSFactor/df_f\n",
    "MSError = SSError/df_e\n",
    "F_statistic = MSFactor/MSError\n"
   ]
  },
  {
   "cell_type": "code",
   "execution_count": 41,
   "metadata": {},
   "outputs": [],
   "source": [
    "p = st.f.sf(F_statistic, df_f, df_e)"
   ]
  },
  {
   "cell_type": "code",
   "execution_count": 43,
   "metadata": {},
   "outputs": [
    {
     "name": "stdout",
     "output_type": "stream",
     "text": [
      "DFFactor = 3\n",
      "DFError = 28\n",
      "DFTotal = 31\n",
      "\n",
      "SSFactor = 6392\n",
      "SSError = 8356\n",
      "SSTotal = 14748\n",
      "\n",
      "MSFactor = 2131\n",
      "MSError = 298\n",
      "\n",
      "F = 7.14\n",
      "\n",
      "p = 0.001\n"
     ]
    }
   ],
   "source": [
    "print(f\"DFFactor = {df_f:.0f}\")\n",
    "print(f\"DFError = {df_e:.0f}\")\n",
    "print(f\"DFTotal = {df_t:.0f}\")\n",
    "print()\n",
    "\n",
    "print(f\"SSFactor = {SSFactor:.0f}\")\n",
    "print(f\"SSError = {SSError:.0f}\")\n",
    "print(f\"SSTotal = {SSTotal:.0f}\")\n",
    "print()\n",
    "print(f\"MSFactor = {MSFactor:.0f}\")\n",
    "print(f\"MSError = {MSError:.0f}\")\n",
    "print()\n",
    "print(f\"F = {F_statistic:.02f}\")\n",
    "print()\n",
    "print(f\"p = {p:.3f}\")"
   ]
  },
  {
   "cell_type": "code",
   "execution_count": 51,
   "metadata": {},
   "outputs": [
    {
     "name": "stdout",
     "output_type": "stream",
     "text": [
      "Reject H0 \n",
      "a- means that all regions have the same mean commute time at a significance level of 5%\n"
     ]
    }
   ],
   "source": [
    "alpha = 0.05\n",
    "Fcrit = st.f.ppf(1-alpha,df_f, df_e )\n",
    "if F_statistic < Fcrit:\n",
    "    print(\"Do not reject H0\")\n",
    "    print(\"a- means that all regions haven't same mean commute time at a significance level of 5%\")\n",
    "else:\n",
    "    print(\"Reject H0 \")\n",
    "    print(\"a- means that all regions have the same mean commute time at a significance level of 5%\")"
   ]
  },
  {
   "cell_type": "code",
   "execution_count": 53,
   "metadata": {},
   "outputs": [],
   "source": [
    "groupNorth = df[\"North\"].dropna().to_numpy()\n",
    "groupSouth = df[\"South\"].dropna().to_numpy()\n",
    "groupEast = df[\"East\"].dropna().to_numpy()\n",
    "groupPen = df[\"Pen\"].dropna().to_numpy()"
   ]
  },
  {
   "cell_type": "code",
   "execution_count": 54,
   "metadata": {},
   "outputs": [
    {
     "name": "stdout",
     "output_type": "stream",
     "text": [
      "Tukey's HSD Pairwise Group Comparisons (95.0% Confidence Interval)\n",
      "Comparison  Statistic  p-value  Lower CI  Upper CI\n",
      " (0 - 1)    -33.625     0.003   -57.209   -10.041\n",
      " (0 - 2)    -19.250     0.140   -42.834     4.334\n",
      " (0 - 3)     -0.125     1.000   -23.709    23.459\n",
      " (1 - 0)     33.625     0.003    10.041    57.209\n",
      " (1 - 2)     14.375     0.361    -9.209    37.959\n",
      " (1 - 3)     33.500     0.003     9.916    57.084\n",
      " (2 - 0)     19.250     0.140    -4.334    42.834\n",
      " (2 - 1)    -14.375     0.361   -37.959     9.209\n",
      " (2 - 3)     19.125     0.144    -4.459    42.709\n",
      " (3 - 0)      0.125     1.000   -23.459    23.709\n",
      " (3 - 1)    -33.500     0.003   -57.084    -9.916\n",
      " (3 - 2)    -19.125     0.144   -42.709     4.459\n",
      "\n"
     ]
    }
   ],
   "source": [
    "res = st.tukey_hsd(groupNorth,groupSouth,groupEast,groupPen)\n",
    "print(res)"
   ]
  }
 ],
 "metadata": {
  "kernelspec": {
   "display_name": "Python 3",
   "language": "python",
   "name": "python3"
  },
  "language_info": {
   "codemirror_mode": {
    "name": "ipython",
    "version": 3
   },
   "file_extension": ".py",
   "mimetype": "text/x-python",
   "name": "python",
   "nbconvert_exporter": "python",
   "pygments_lexer": "ipython3",
   "version": "3.11.0"
  },
  "orig_nbformat": 4
 },
 "nbformat": 4,
 "nbformat_minor": 2
}
