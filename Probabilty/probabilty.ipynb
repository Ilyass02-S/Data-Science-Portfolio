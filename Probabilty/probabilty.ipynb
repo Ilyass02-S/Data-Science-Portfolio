{
 "cells": [
  {
   "cell_type": "code",
   "execution_count": 10,
   "metadata": {},
   "outputs": [],
   "source": [
    "import numpy as np\n",
    "import random,math\n",
    "import matplotlib.pyplot as plt\n",
    "import scipy.stats as sp\n",
    "from scipy.special import factorial,comb\n",
    "from scipy.stats import poisson,binom"
   ]
  },
  {
   "attachments": {},
   "cell_type": "markdown",
   "metadata": {},
   "source": [
    "# 1\n",
    "Calculate $ \\sum_{k=0}^{50} 1/(k+1)^2 $ "
   ]
  },
  {
   "cell_type": "code",
   "execution_count": 3,
   "metadata": {},
   "outputs": [
    {
     "name": "stdout",
     "output_type": "stream",
     "text": [
      "1.6255172011340242\n"
     ]
    }
   ],
   "source": [
    "n=50\n",
    "s= sum(1/(k+1)**2 for k in range(n+1))\n",
    "print(s)"
   ]
  },
  {
   "attachments": {},
   "cell_type": "markdown",
   "metadata": {},
   "source": [
    "# 2 Probl. 2"
   ]
  },
  {
   "cell_type": "code",
   "execution_count": 23,
   "metadata": {},
   "outputs": [
    {
     "name": "stdout",
     "output_type": "stream",
     "text": [
      "1- Population mean of x is 3.550\n",
      "2- population variance is 3.447 and Standard deviation is 1.857\n",
      "3- Population of over 4 people is 0.6\n",
      "4- The probability that the next three parties will each have more than 4 people is 0.023\n"
     ]
    }
   ],
   "source": [
    "x = np.array((1,2,3,4,5,6,7,8))\n",
    "p = np.array((0.1,0.25,0.2,0.2,0.1,0.05,0.05,0.05))\n",
    "mu = sum(p*x)\n",
    "print(f\"a- Population mean of x is {mu:0.3f}\")\n",
    "var = sum(p*(x - mu)**2)\n",
    "print(f\"b- population variance is {var:0.3f} and Standard deviation is {np.sqrt(var):0.3f}\")\n",
    "n=4\n",
    "for i in range(n):\n",
    "    p[i]+= p[i]\n",
    "p= 1-p[i]\n",
    "print(f\"c- Population of over 4 people is {p}\")\n",
    "p1 = 1 - poisson.cdf(4, mu)\n",
    "prob = p1 ** 3\n",
    "print(f\"d- The probability that the next three parties will each have more than 4 people is {prob:0.3f}\")\n",
    "\n",
    "\n",
    "\n"
   ]
  },
  {
   "attachments": {},
   "cell_type": "markdown",
   "metadata": {},
   "source": [
    "# 3 Probl. 3"
   ]
  },
  {
   "cell_type": "code",
   "execution_count": 47,
   "metadata": {},
   "outputs": [
    {
     "name": "stdout",
     "output_type": "stream",
     "text": [
      "1- main of X: 1.0 and Standard deviation of X: 0.949\n",
      "2- exactly 2 of these selected children have a learning disability: 0.100\n",
      "3- at least 1 of these children has a learning disability: 0.651\n",
      "4- fewer than 3 of these children have a learning disability: 0.26447\n"
     ]
    }
   ],
   "source": [
    "n=10\n",
    "p=0.1\n",
    "mu=n*p\n",
    "std = np.sqrt(n*p*(1-p))\n",
    "print(f\"b- main of X: {mu} and Standard deviation of X: {std:0.3f}\")\n",
    "k1=2\n",
    "p1=comb(N = n, k = k1)*p**k1*(1-p)**(n-k1)\n",
    "print(f\"c- exactly 2 of these selected children have a learning disability: {p:0.3f}\")\n",
    "k2=0\n",
    "p=comb(N = n, k = k2)*p**k2*(1-p)**(n-k2)\n",
    "p2=1-p\n",
    "print(f\"d- at least 1 of these children has a learning disability: {p2:0.3f}\")\n",
    "prob = binom.cdf(2, n, p)\n",
    "print(f\"e- fewer than 3 of these children have a learning disability: {prob:0.5f}\")"
   ]
  },
  {
   "attachments": {},
   "cell_type": "markdown",
   "metadata": {},
   "source": [
    "# 4 Probl. 4"
   ]
  },
  {
   "cell_type": "code",
   "execution_count": 59,
   "metadata": {},
   "outputs": [
    {
     "name": "stdout",
     "output_type": "stream",
     "text": [
      "b- the expected value of X: 2.0\n",
      "c- the variance of X: 1.8\n",
      "d-  exactly 2 transactions sampled are in error: 0.285\n",
      "e- at least 2 transactions sampled are in error: 0.107\n",
      "f- that no more than one transaction is in error: 0.392\n"
     ]
    }
   ],
   "source": [
    "n=20\n",
    "p=0.1\n",
    "mu=n*p \n",
    "print(f\"b- the expected value of X: {mu}\")\n",
    "var=n*p*(1-p)\n",
    "print(f\"c- the variance of X: {var}\")\n",
    "k=2\n",
    "prob=comb(N = n, k = k)*p**k*(1-p)**(n-k)\n",
    "print(f\"d-  exactly 2 transactions sampled are in error: {prob:0.3}\")\n",
    "for k in range(2, n+1):\n",
    "    binom_coeff = comb(n, k)\n",
    "    binom_prob = p**k * (1-p)**(n-k)\n",
    "    prob += binom_coeff * binom_prob\n",
    "print(f\"e- at least 2 transactions sampled are in error: {1-prob:0.3}\")\n",
    "prob = binom.cdf(1, n, p)\n",
    "print(f\"f- that no more than one transaction is in error: {prob:0.3}\")\n"
   ]
  },
  {
   "attachments": {},
   "cell_type": "markdown",
   "metadata": {},
   "source": [
    "# 5 Probl. 5"
   ]
  },
  {
   "cell_type": "code",
   "execution_count": 31,
   "metadata": {},
   "outputs": [
    {
     "name": "stdout",
     "output_type": "stream",
     "text": [
      "a- the mean and variance of X is same as value of lmbda: 4\n",
      "b- probabilty of three errors are found on one page: 0.195\n",
      "c- Probability of no more than 2 errors on one page: 0.433\n",
      "c- Probability of no more than 2 errors on 2 page: 0.0567\n"
     ]
    }
   ],
   "source": [
    "lmbda= 4\n",
    "def poisson(lmbda, k):\n",
    "    return math.exp(-lmbda) * (lmbda**k) / factorial(k)\n",
    "print(f\"a- the mean and variance of X is same as value of lmbda: {lmbda}\")\n",
    "k= 3\n",
    "p=poisson(lmbda, k)\n",
    "print(f\"b- probabilty of three errors are found on one page: {p:0.3}\")\n",
    "for k in range(3):\n",
    "    p += poisson(lmbda, k)\n",
    "print(f\"c- Probability of no more than 2 errors on one page: {p:0.3}\")\n",
    "p0=poisson(lmbda, 0)\n",
    "p1=poisson(lmbda, 1)\n",
    "p2=poisson(lmbda, 2)\n",
    "p_page = p0 + p1 + p2\n",
    "p = p_page * p_page\n",
    "print(f\"d- Probability of no more than 2 errors on 2 page: {p:0.3}\")\n",
    "\n"
   ]
  },
  {
   "attachments": {},
   "cell_type": "markdown",
   "metadata": {},
   "source": [
    "# 6 Probl. 6"
   ]
  },
  {
   "cell_type": "code",
   "execution_count": 36,
   "metadata": {},
   "outputs": [
    {
     "name": "stdout",
     "output_type": "stream",
     "text": [
      "a-  there will be  2 accident in 10 years\n",
      "b-Probability of no accidents in the next 10 years: 0.135\n",
      "b-Probability of no accidents in the next 20 years: 0.0183\n"
     ]
    }
   ],
   "source": [
    "lmbda=2\n",
    "print(f\"a-  there will be  {lmbda} accident in 10 years\")\n",
    "p=poisson(lmbda,0)\n",
    "print(f\"b-Probability of no accidents in the next 10 years: {p:0.3}\")\n",
    "lmbda2=2*2\n",
    "p=poisson(lmbda2,0)\n",
    "print(f\"c-Probability of no accidents in the next 20 years: {p:0.3}\")"
   ]
  },
  {
   "attachments": {},
   "cell_type": "markdown",
   "metadata": {},
   "source": [
    "# 7 Probl. 7"
   ]
  },
  {
   "cell_type": "code",
   "execution_count": 61,
   "metadata": {},
   "outputs": [
    {
     "name": "stdout",
     "output_type": "stream",
     "text": [
      "a- Probability of getting exactly 3 vegetarians in a sample of 20 people:: 0.205\n",
      "c- Probability of getting At least 3 are vegetarians in a sample of 20 people: 0.19\n",
      "c- Probability of getting At most 3 are vegetarians in a sample of 20 people: 0.81\n"
     ]
    }
   ],
   "source": [
    "n=20\n",
    "p=0.2\n",
    "k=3\n",
    "p=comb(N = n, k = k)*p**k*(1-p)**(n-k)\n",
    "print(f\"a- Probability of getting exactly 3 vegetarians in a sample of 20 people:: {p:0.3}\")\n",
    "prob=0\n",
    "for k in range(k, n+1):\n",
    "    binom_coeff = comb(n, k)\n",
    "    binom_prob = p**k * (1-p)**(n-k)\n",
    "    prob += binom_coeff * binom_prob\n",
    "print(f\"c- Probability of getting At least 3 are vegetarians in a sample of 20 people: {1-prob:0.3}\")\n",
    "print(f\"c- Probability of getting At most 3 are vegetarians in a sample of 20 people: {prob:0.3}\")\n"
   ]
  },
  {
   "cell_type": "code",
   "execution_count": null,
   "metadata": {},
   "outputs": [],
   "source": []
  }
 ],
 "metadata": {
  "kernelspec": {
   "display_name": "Python 3",
   "language": "python",
   "name": "python3"
  },
  "language_info": {
   "codemirror_mode": {
    "name": "ipython",
    "version": 3
   },
   "file_extension": ".py",
   "mimetype": "text/x-python",
   "name": "python",
   "nbconvert_exporter": "python",
   "pygments_lexer": "ipython3",
   "version": "3.11.0"
  },
  "orig_nbformat": 4
 },
 "nbformat": 4,
 "nbformat_minor": 2
}
