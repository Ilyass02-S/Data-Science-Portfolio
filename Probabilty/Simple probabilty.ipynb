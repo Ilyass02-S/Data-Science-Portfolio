{
 "cells": [
  {
   "cell_type": "code",
   "execution_count": 8,
   "metadata": {},
   "outputs": [],
   "source": [
    "import itertools as it\n",
    "import numpy as np\n",
    "import matplotlib.pyplot as plt"
   ]
  },
  {
   "attachments": {},
   "cell_type": "markdown",
   "metadata": {},
   "source": [
    "The exercise set referred in the questions is [here](https://stats.libretexts.org/Bookshelves/Introductory_Statistics/Book%3A_Introductory_Statistics_(Shafer_and_Zhang)/03%3A_Basic_Concepts_of_Probability/3.E%3A_Basic_Concepts_of_Probability_(Exercises)) "
   ]
  },
  {
   "attachments": {},
   "cell_type": "markdown",
   "metadata": {},
   "source": [
    "1. Use ```itertools``` to solve Q3.1.3  \n",
    "\n"
   ]
  },
  {
   "cell_type": "code",
   "execution_count": 36,
   "metadata": {},
   "outputs": [
    {
     "name": "stdout",
     "output_type": "stream",
     "text": [
      "[('R', 'R'), ('R', 'Y'), ('R', 'G'), ('Y', 'R'), ('Y', 'Y'), ('Y', 'G'), ('G', 'R'), ('G', 'Y'), ('G', 'G')]\n"
     ]
    }
   ],
   "source": [
    "\n",
    "\n",
    "\n",
    "colors = [\"R\", \"Y\", \"G\"]\n",
    "sample_space = list(it.product(colors, repeat=2))\n",
    "print(sample_space)"
   ]
  },
  {
   "cell_type": "code",
   "execution_count": null,
   "metadata": {},
   "outputs": [],
   "source": []
  },
  {
   "attachments": {},
   "cell_type": "markdown",
   "metadata": {},
   "source": [
    "2. Solve Q3.1.7"
   ]
  },
  {
   "attachments": {},
   "cell_type": "markdown",
   "metadata": {},
   "source": [
    "a- [('R', 'R'), ('R', 'G'), ('G', 'R'), ('G', 'G')]\n",
    "b- [('R', 'R'), ('Y', 'Y'), ('G', 'G')]\n",
    "c- []"
   ]
  },
  {
   "attachments": {},
   "cell_type": "markdown",
   "metadata": {},
   "source": [
    "3. Solve Q3.1.11 both exactly and by using simulations."
   ]
  },
  {
   "cell_type": "code",
   "execution_count": 17,
   "metadata": {},
   "outputs": [],
   "source": [
    "def sim1():\n",
    "\n",
    "\n",
    " colors = ['R', 'Y', 'G']\n",
    " marbles = colors * 8\n",
    " pairs = it.product(marbles, repeat=2)\n",
    " valid_pairs = sum(1 for pair in pairs if 'yellow' not in pair) \n",
    " total_pairs = len(marbles) ** 2\n",
    " P = valid_pairs / total_pairs\n",
    " print(P)\n"
   ]
  },
  {
   "cell_type": "code",
   "execution_count": 5,
   "metadata": {},
   "outputs": [],
   "source": [
    "def sim2():\n",
    "\n",
    " colors = ['R', 'Y', 'G']\n",
    " marbles = colors * 8\n",
    " pairs = it.product(marbles, repeat=2)\n",
    " same_color_pairs = sum(1 for pair in pairs if pair[0] == pair[1] and pair[0] is not None)\n",
    " total_pairs = len(marbles) ** 2\n",
    " P = same_color_pairs / total_pairs\n",
    " print(P)\n"
   ]
  },
  {
   "cell_type": "code",
   "execution_count": 6,
   "metadata": {},
   "outputs": [],
   "source": [
    "def sim3():\n",
    "    \n",
    "\n",
    " colors = ['R', 'Y', 'G']\n",
    " marbles = colors * 8\n",
    " pairs = it.product(marbles, repeat=2)\n",
    " valid_pairs = sum(1 for pair in pairs if set(pair) == set(colors))\n",
    " total_pairs = len(marbles) ** 2\n",
    " P = valid_pairs / total_pairs\n",
    " print(P)\n"
   ]
  },
  {
   "cell_type": "code",
   "execution_count": 18,
   "metadata": {},
   "outputs": [
    {
     "name": "stdout",
     "output_type": "stream",
     "text": [
      "1.0\n",
      "0.3333333333333333\n",
      "0.0\n"
     ]
    }
   ],
   "source": [
    "sim1()\n",
    "sim2()\n",
    "sim3()"
   ]
  },
  {
   "cell_type": "code",
   "execution_count": null,
   "metadata": {},
   "outputs": [],
   "source": []
  },
  {
   "attachments": {},
   "cell_type": "markdown",
   "metadata": {},
   "source": [
    "5. Solve 3.2.3 a-d manually and verify $ P(H\\cap M) $ by simulation."
   ]
  },
  {
   "attachments": {},
   "cell_type": "markdown",
   "metadata": {},
   "source": [
    "a- H={hhh,hht,hth,thh,tht,tth,htt}              M={hhh,hht,hth,thh}\n",
    "b- Hc and M are mutually exclusive because the outcomes of Hc and M are distinct means there is no common variables."
   ]
  },
  {
   "cell_type": "code",
   "execution_count": 2,
   "metadata": {},
   "outputs": [
    {
     "name": "stdout",
     "output_type": "stream",
     "text": [
      "0.5\n"
     ]
    }
   ],
   "source": [
    "S={\"hhh\",\"hht\",\"hth\",\"htt\",\"thh\",\"tht\",\"tth\",\"ttt\"}\n",
    "H = {\"hhh\", \"hht\", \"hth\", \"htt\", \"thh\", \"tht\", \"tth\"}\n",
    "M = {\"hhh\", \"hht\", \"hth\", \"thh\"}\n",
    "intersection = H.intersection(M)\n",
    "P = len(intersection) / len(S)\n",
    "print(P)"
   ]
  },
  {
   "attachments": {},
   "cell_type": "markdown",
   "metadata": {},
   "source": [
    "6.  The probability of a bad component in a sample of 80 components is 0.15. Simulate the probability that in sample there will be at most 5 bad components."
   ]
  },
  {
   "cell_type": "code",
   "execution_count": 3,
   "metadata": {},
   "outputs": [
    {
     "name": "stdout",
     "output_type": "stream",
     "text": [
      "0.014022610006949833\n"
     ]
    }
   ],
   "source": [
    "from scipy.stats import binom\n",
    "n = 80  \n",
    "p = 0.15  \n",
    "d = binom(n, p)\n",
    "P = d.cdf(5)\n",
    "print(P)\n",
    "\n",
    "\n",
    "\n",
    "\n",
    "\n",
    "\n",
    "\n",
    "\n"
   ]
  },
  {
   "cell_type": "code",
   "execution_count": null,
   "metadata": {},
   "outputs": [],
   "source": []
  }
 ],
 "metadata": {
  "kernelspec": {
   "display_name": "Python 3",
   "language": "python",
   "name": "python3"
  },
  "language_info": {
   "codemirror_mode": {
    "name": "ipython",
    "version": 3
   },
   "file_extension": ".py",
   "mimetype": "text/x-python",
   "name": "python",
   "nbconvert_exporter": "python",
   "pygments_lexer": "ipython3",
   "version": "3.11.0"
  },
  "orig_nbformat": 4,
  "vscode": {
   "interpreter": {
    "hash": "559c10db05cd4d1b48e0f9d488039293d7fb2e69e116798d149bc3f341c097ed"
   }
  }
 },
 "nbformat": 4,
 "nbformat_minor": 2
}
