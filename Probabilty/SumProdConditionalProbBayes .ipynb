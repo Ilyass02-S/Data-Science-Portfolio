{
 "cells": [
  {
   "cell_type": "code",
   "execution_count": 13,
   "id": "4b30ff48",
   "metadata": {},
   "outputs": [],
   "source": [
    "import itertools as it\n",
    "import numpy as np\n",
    "import matplotlib.pyplot as plt\n",
    "import scipy.special as sp"
   ]
  },
  {
   "attachments": {},
   "cell_type": "markdown",
   "id": "3c82e048",
   "metadata": {},
   "source": [
    "# Exercise 1 (Sum rule, product rule)\n",
    "4 red, 4 blue and 4 green marbles are in a bag. Two marbles are taken with replacement (that is the color of the ball is noticed and then the ball is put back to the bag). Find the probability that\n",
    "\n",
    "1. First marble is blue or green,\n",
    "2. Both marble are red,\n",
    "3. First marble is red and the second is blue or green \n",
    "3. Both balls are of different color. (Tree diagram can help to get all possible combinations)"
   ]
  },
  {
   "cell_type": "code",
   "execution_count": 9,
   "id": "e02f958e",
   "metadata": {},
   "outputs": [
    {
     "name": "stdout",
     "output_type": "stream",
     "text": [
      "Probability of First marble is blue or green : 0.667\n"
     ]
    }
   ],
   "source": [
    "\n",
    "total_marbles = 12\n",
    "blue_marbles = 4\n",
    "green_marbles = 4\n",
    "prob_blue = blue_marbles / total_marbles\n",
    "prob_green = green_marbles / total_marbles\n",
    "prob_blue_or_green = prob_blue + prob_green\n",
    "print(f\"Probability of First marble is blue or green : {prob_blue_or_green:0.03f}\")\n"
   ]
  },
  {
   "cell_type": "code",
   "execution_count": 11,
   "id": "0be1051d",
   "metadata": {},
   "outputs": [
    {
     "name": "stdout",
     "output_type": "stream",
     "text": [
      "Probability of both marbleare red : 0.111\n"
     ]
    }
   ],
   "source": [
    "total_marbles = 12\n",
    "red_marbles = 4\n",
    "prob_red = red_marbles / total_marbles\n",
    "prob_two_red =prob_red*prob_red\n",
    "print(f\"Probability of both marbleare red : {prob_two_red:0.03f}\")"
   ]
  },
  {
   "cell_type": "code",
   "execution_count": 12,
   "id": "958d24b1",
   "metadata": {},
   "outputs": [
    {
     "name": "stdout",
     "output_type": "stream",
     "text": [
      "Probability of First marble is red and the second is blue or green : 0.222\n"
     ]
    }
   ],
   "source": [
    "total_marbles = 12\n",
    "red_marbles = 4\n",
    "blue_marbles = 4\n",
    "green_marbles = 4\n",
    "prob_first_marble = red_marbles / total_marbles\n",
    "prob_second_marble = (blue_marbles + green_marbles) / total_marbles\n",
    "P= prob_first_marble*prob_second_marble\n",
    "print(f\"Probability of First marble is red and the second is blue or green : {P:0.03f}\")"
   ]
  },
  {
   "cell_type": "code",
   "execution_count": null,
   "id": "f0e646cc",
   "metadata": {},
   "outputs": [],
   "source": []
  },
  {
   "cell_type": "code",
   "execution_count": null,
   "id": "2faac4ae",
   "metadata": {},
   "outputs": [],
   "source": []
  },
  {
   "attachments": {},
   "cell_type": "markdown",
   "id": "5c0283c3",
   "metadata": {},
   "source": [
    "(Ans. 0.667, 0.111, 0.222, 0.667 )"
   ]
  },
  {
   "attachments": {},
   "cell_type": "markdown",
   "id": "7ec6b85b",
   "metadata": {},
   "source": [
    "## Exercise 2 (Combinatorics)"
   ]
  },
  {
   "attachments": {},
   "cell_type": "markdown",
   "id": "18527d87",
   "metadata": {},
   "source": [
    "Find the probability of drawing two red cards from an ordinary 52 deck of cards. (without replacement, i.e. the first card is not put back to the deck) (Ans. 0.2451)"
   ]
  },
  {
   "cell_type": "code",
   "execution_count": 22,
   "id": "542bf315",
   "metadata": {},
   "outputs": [
    {
     "name": "stdout",
     "output_type": "stream",
     "text": [
      "Probability of drawing two red cards in a row (without replacement):0.2451 \n"
     ]
    }
   ],
   "source": [
    "\n",
    "total_cards = 52\n",
    "red_cards = 26\n",
    "total_ways = sp.comb(total_cards, 2)\n",
    "red_ways = sp.comb(red_cards, 2)\n",
    "prob_red_both = red_ways / total_ways\n",
    "print(f\"Probability of drawing two red cards in a row (without replacement):{prob_red_both:0.04f} \")\n"
   ]
  },
  {
   "attachments": {},
   "cell_type": "markdown",
   "id": "c3b41f78",
   "metadata": {},
   "source": [
    "## Exercise 3\n",
    "A card is drawn from a deck, without replacement. Find the conditional probability of $P(\\text{a queen} | \\text{a face card})$ \n",
    "\n",
    "(there are three face cards in each suit: J,Q,K) (Ans. 0.33)"
   ]
  },
  {
   "cell_type": "code",
   "execution_count": 23,
   "id": "0c40d9ee",
   "metadata": {},
   "outputs": [
    {
     "name": "stdout",
     "output_type": "stream",
     "text": [
      "Conditional probability of drawing a queen given that the card is a face card: 0.33\n"
     ]
    }
   ],
   "source": [
    "\n",
    "total_cards = 52\n",
    "face_cards = 3 * 4\n",
    "queens = 4\n",
    "prob_queen_given_face = queens / face_cards\n",
    "print(f\"Conditional probability of drawing a queen given that the card is a face card: {prob_queen_given_face:0.02f}\" )\n"
   ]
  },
  {
   "cell_type": "code",
   "execution_count": null,
   "id": "6ccec13e",
   "metadata": {},
   "outputs": [],
   "source": []
  },
  {
   "attachments": {},
   "cell_type": "markdown",
   "id": "802f7ac8",
   "metadata": {},
   "source": [
    "## Exercise 4\n",
    "\n",
    "Simulate the probability of the part 2 in exercise 1."
   ]
  },
  {
   "cell_type": "code",
   "execution_count": 7,
   "id": "b724e707",
   "metadata": {},
   "outputs": [
    {
     "name": "stdout",
     "output_type": "stream",
     "text": [
      "The probability of drawing two red marbles is: 0.12\n"
     ]
    }
   ],
   "source": [
    "import random\n",
    "bag = ['R','R','R','R','G','G','G','G','B','B','B','B']\n",
    "count = 0\n",
    "num_sim = 100\n",
    "for i in range(num_sim):\n",
    "    # draw two marbles with replacement\n",
    "    draw1 = random.choice(bag)\n",
    "    draw2 = random.choice(bag)\n",
    "    \n",
    "    # check if both marbles are red\n",
    "    if draw1 == 'R' and draw2 == 'R':\n",
    "        count += 1\n",
    "P = count / num_sim\n",
    "\n",
    "print(f\"The probability of drawing two red marbles is: {P:0.02f}\", )\n"
   ]
  },
  {
   "attachments": {},
   "cell_type": "markdown",
   "id": "5286a5c6",
   "metadata": {},
   "source": [
    "## Exercise 5"
   ]
  },
  {
   "cell_type": "markdown",
   "id": "f6ea9c2d",
   "metadata": {},
   "source": [
    "A local animal shelter has 24 dogs and 18 cats available for adoption. Eight of the dogs and 6 of the cats are male. Find the following conditional probabilities if an animal is selected at random.\n",
    "\n",
    "1. The pet is a male, given that it is a cat. (Ans:0.333)\n",
    "2. The pet is a cat, given that it is a female. (Ans. 0.429)\n",
    "3. The pet is a female, given that it is a dog. (Ans. 0.666)"
   ]
  },
  {
   "cell_type": "code",
   "execution_count": 14,
   "id": "d63ccb90",
   "metadata": {},
   "outputs": [
    {
     "name": "stdout",
     "output_type": "stream",
     "text": [
      "Probabilty of The pet is a male, given that it is a cat is 0.333\n",
      "Probabilty of The pet is cat, given that it is a female is 0.429\n",
      "Probabilty of The pet is a female, given that it is a dog is 0.667\n"
     ]
    }
   ],
   "source": [
    "total_pets= 42\n",
    "dogs= 24\n",
    "cats= 18\n",
    "dogs_male= 8\n",
    "cats_male=6\n",
    "P1= cats_male/cats\n",
    "P2= cats/total_pets\n",
    "P3= 1- dogs_male/dogs\n",
    "print(f\"Probabilty of The pet is a male, given that it is a cat is {P1:0.3f}\")\n",
    "print(f\"Probabilty of The pet is cat, given that it is a female is {P2:0.3f}\")\n",
    "print(f\"Probabilty of The pet is a female, given that it is a dog is {P3:0.3f}\")\n"
   ]
  },
  {
   "attachments": {},
   "cell_type": "markdown",
   "id": "567e4bdc",
   "metadata": {},
   "source": [
    "## Exercise 6"
   ]
  },
  {
   "cell_type": "markdown",
   "id": "8e7cd04b",
   "metadata": {},
   "source": [
    "At a college, 20% of the students take Finite Math, 30% take History, and 5% take both Finite Math and History. If a student is chosen at random, find the following conditional probabilities.\n",
    "\n",
    "    The student is taking Finite Math given that he is taking History.\n",
    "    The student is taking History assuming that he is taking Finite Math.\n",
    "    \n",
    "(Ans. 0.166,  0.250)\n"
   ]
  },
  {
   "cell_type": "code",
   "execution_count": 16,
   "id": "924d94d7",
   "metadata": {},
   "outputs": [
    {
     "name": "stdout",
     "output_type": "stream",
     "text": [
      "Probabilty of The student is taking Finite Math given that he is taking History is 0.167\n",
      "Probabilty of The student is taking History assuming that he is taking Finite Math is 0.250\n"
     ]
    }
   ],
   "source": [
    "FM= 0.2\n",
    "H= 0.3\n",
    "both= 0.05 \n",
    "P1= both/H\n",
    "P2= both/FM\n",
    "print(f\"Probabilty of The student is taking Finite Math given that he is taking History is {P1:0.3f}\")\n",
    "print(f\"Probabilty of The student is taking History assuming that he is taking Finite Math is {P2:0.3f}\")"
   ]
  },
  {
   "attachments": {},
   "cell_type": "markdown",
   "id": "27101e9f",
   "metadata": {},
   "source": [
    "## Exercise 7"
   ]
  },
  {
   "cell_type": "markdown",
   "id": "be7e2388",
   "metadata": {},
   "source": [
    "70 % of the kids who visit a doctor have a fever and 30 % of kids with a fever have sore throats. What is the probability that a kid who goes to a doctor has a fever and a sore throat? (Ans. 0.21)"
   ]
  },
  {
   "cell_type": "code",
   "execution_count": 18,
   "id": "2e6b8fe8",
   "metadata": {},
   "outputs": [
    {
     "name": "stdout",
     "output_type": "stream",
     "text": [
      "Probabilty of a kid who goes to a doctor has a fever and a sore throat is 0.21\n"
     ]
    }
   ],
   "source": [
    "P_fever = 0.7\n",
    "P_sore_throat = 0.3\n",
    "P1 = P_fever*P_sore_throat\n",
    "\n",
    "print(f\"Probabilty of a kid who goes to a doctor has a fever and a sore throat is {P1:0.2f}\")"
   ]
  },
  {
   "cell_type": "code",
   "execution_count": null,
   "id": "730bf2bc",
   "metadata": {},
   "outputs": [],
   "source": []
  },
  {
   "attachments": {},
   "cell_type": "markdown",
   "id": "483eecd3",
   "metadata": {},
   "source": [
    "## Exercise 8"
   ]
  },
  {
   "attachments": {},
   "cell_type": "markdown",
   "id": "face2f79",
   "metadata": {},
   "source": [
    "A junk box contains twelve old batteries, five of which are totally dead. You start picking them one at a time and testing them. You do not put the tested batteries back to the junk box. Find the probabilities of the following outcomes.\n",
    "\n",
    "1. The first two batteries are good. (Ans. 0.318)\n",
    "2. At least one of the first three works. (Ans. 0.118)\n",
    "3. You have to pick 5 batteries in order to find one that works. (Ans. 0.009)"
   ]
  },
  {
   "cell_type": "code",
   "execution_count": 34,
   "id": "07ff2a26",
   "metadata": {},
   "outputs": [
    {
     "name": "stdout",
     "output_type": "stream",
     "text": [
      "Probabilty of The first two batteries are good is 0.318\n"
     ]
    }
   ],
   "source": [
    "from math import perm\n",
    "num_good = 12 - 5\n",
    "num_bad = 5\n",
    "total_ways = perm(num_good + num_bad, 2)\n",
    "good_ways = perm(num_good, 2)\n",
    "P = good_ways / total_ways\n",
    "\n",
    "print(f\"Probabilty of The first two batteries are good is {P:0.3f}\")"
   ]
  },
  {
   "cell_type": "code",
   "execution_count": 45,
   "id": "9ff8293b",
   "metadata": {},
   "outputs": [
    {
     "name": "stdout",
     "output_type": "stream",
     "text": [
      "Probabilty of At least one of the first three works is 0.955\n"
     ]
    }
   ],
   "source": [
    "from math import perm\n",
    "num_good = 7\n",
    "num_bad = 5\n",
    "total_ways = perm(num_good + num_bad, 3)\n",
    "bad_ways = perm(num_bad, 3)\n",
    "P1 = 1- bad_ways / total_ways\n",
    "\n",
    "print(f\"Probabilty of At least one of the first three works is {P1:0.3f}\")"
   ]
  },
  {
   "attachments": {},
   "cell_type": "markdown",
   "id": "a6568ae9",
   "metadata": {},
   "source": [
    "## Exercise 9"
   ]
  },
  {
   "cell_type": "markdown",
   "id": "d4de0552",
   "metadata": {},
   "source": [
    "Company A supplies 40% of the computers sold and is late 5% of the time. Company B supplies 30% of the computers sold and is late 3% of the time. Company C supplies another 30% and is late 2.5% of the time. What is the probability that a computer arrives late? (Hint Tree diagram or total probability formula)"
   ]
  },
  {
   "cell_type": "code",
   "execution_count": 49,
   "id": "c32445f3",
   "metadata": {},
   "outputs": [
    {
     "name": "stdout",
     "output_type": "stream",
     "text": [
      "The probability that a computer arrives late is: 0.037\n"
     ]
    }
   ],
   "source": [
    "\n",
    "A = 0.40\n",
    "late_a = 0.05\n",
    "B = 0.30\n",
    "late_b = 0.03\n",
    "C = 0.30\n",
    "late_c = 0.025\n",
    "\n",
    "P= (A * late_a) + (B * late_b) + (C * late_c)\n",
    "\n",
    "print(f\"The probability that a computer arrives late is: {P:0.3f}\" )\n"
   ]
  },
  {
   "attachments": {},
   "cell_type": "markdown",
   "id": "f776bef5",
   "metadata": {},
   "source": [
    "## Exercise 10"
   ]
  },
  {
   "cell_type": "markdown",
   "id": "9ea70056",
   "metadata": {},
   "source": [
    "One urn has 4 red balls and 1 white ball; a second urn has 2 red balls and 3 white balls. A single card is randomly selected from a standard deck. If the card is less than 5 (aces count as 1), a ball is drawn out of the first urn; otherwise a ball is drawn out of the second urn. If the drawn ball is red, what is the probability that it came out of the second urn? (Hint: Tree diagram or Bayes)"
   ]
  },
  {
   "cell_type": "code",
   "execution_count": 2,
   "id": "9ad8235e",
   "metadata": {},
   "outputs": [
    {
     "name": "stdout",
     "output_type": "stream",
     "text": [
      "The probability that the ball was drawn from the second urn given that a red ball was drawn is: 0.529\n"
     ]
    }
   ],
   "source": [
    "\n",
    "Urn1 = 4/13\n",
    "Urn2 = 9/13\n",
    "P_R_given_Urn1 = 4/5\n",
    "P_R_given_Urn2 = 2/5\n",
    "P_R = P_R_given_Urn1 * Urn1 + P_R_given_Urn2 * Urn2\n",
    "P_S2_given_R = P_R_given_Urn2 * Urn2 / P_R\n",
    "print(f\"The probability that the ball was drawn from the second urn given that a red ball was drawn is: {P_S2_given_R:0.3f}\")\n"
   ]
  },
  {
   "attachments": {},
   "cell_type": "markdown",
   "id": "8d3f524b",
   "metadata": {},
   "source": [
    "## Exercise 11"
   ]
  },
  {
   "cell_type": "markdown",
   "id": "db55d128",
   "metadata": {},
   "source": [
    "A basketball team is to play two games in a tournament. The probability of winning the first game is 0.10. If the first game is won, the probability of winning the second game is 0.15. If the first game is lost, the probability of winning the second game is 0.25. What is the probability the first game was won if the second game is lost? (Hint: tree diagram or Bayes formula)"
   ]
  },
  {
   "cell_type": "code",
   "execution_count": 3,
   "id": "ba4e470d",
   "metadata": {},
   "outputs": [
    {
     "name": "stdout",
     "output_type": "stream",
     "text": [
      "The probability that the first game was won given that the second game was lost is: 0.296\n"
     ]
    }
   ],
   "source": [
    "\n",
    "W1 = 0.10\n",
    "L1 = 0.90\n",
    "W2_given_W1 = 0.15\n",
    "W2_given_L1 = 0.25\n",
    "L2_given_W1 = 1 - W2_given_W1\n",
    "L2_given_L1 = 1 - W2_given_L1\n",
    "L2 = L2_given_W1 * W1 + L2_given_L1 * L1\n",
    "W2 = W2_given_W1 * W1 + W2_given_L1 * L1\n",
    "W1_given_L2 = W2_given_L1 * L1 /L2\n",
    "\n",
    "print(f\"The probability that the first game was won given that the second game was lost is: {W1_given_L2:0.3f}\")\n"
   ]
  },
  {
   "attachments": {},
   "cell_type": "markdown",
   "id": "203d8fee",
   "metadata": {},
   "source": [
    "## Exercise 12\n",
    "To evaluate a new test for detecting Hansen’s disease, a group of people 5% of which are known to have Hansen’s disease are tested. The test finds Hansen’s disease among 98% of those with the disease and 3% of those who don’t. What is the probability that someone testing positive for Hansen’s disease under this new test actually has it? (Bayes)"
   ]
  },
  {
   "cell_type": "code",
   "execution_count": 4,
   "id": "a96d0925",
   "metadata": {},
   "outputs": [
    {
     "name": "stdout",
     "output_type": "stream",
     "text": [
      "The probability of having Hansen's disease given that the test is positive is: 0.632\n"
     ]
    }
   ],
   "source": [
    "#  probabilty A stand for hansen disease B stand for positive test\n",
    "A = 0.05\n",
    "notA = 0.95\n",
    "B_given_A = 0.98\n",
    "B_given_notA = 0.03\n",
    "B = B_given_A * A + B_given_notA * notA\n",
    "A_given_B = B_given_A * A/B\n",
    "\n",
    "print(f\"The probability of having Hansen's disease given that the test is positive is: {A_given_B:0.3f}\")\n"
   ]
  },
  {
   "cell_type": "code",
   "execution_count": null,
   "id": "d2f90cba",
   "metadata": {},
   "outputs": [],
   "source": []
  }
 ],
 "metadata": {
  "kernelspec": {
   "display_name": "Python 3",
   "language": "python",
   "name": "python3"
  },
  "language_info": {
   "codemirror_mode": {
    "name": "ipython",
    "version": 3
   },
   "file_extension": ".py",
   "mimetype": "text/x-python",
   "name": "python",
   "nbconvert_exporter": "python",
   "pygments_lexer": "ipython3",
   "version": "3.11.0"
  },
  "vscode": {
   "interpreter": {
    "hash": "559c10db05cd4d1b48e0f9d488039293d7fb2e69e116798d149bc3f341c097ed"
   }
  }
 },
 "nbformat": 4,
 "nbformat_minor": 5
}
